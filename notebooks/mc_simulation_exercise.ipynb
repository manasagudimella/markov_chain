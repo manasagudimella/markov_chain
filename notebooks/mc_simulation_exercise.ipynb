{
 "cells": [
  {
   "cell_type": "code",
   "execution_count": 18,
   "metadata": {},
   "outputs": [],
   "source": [
    "import numpy as np\n",
    "import typing\n",
    "from typing import Any"
   ]
  },
  {
   "cell_type": "code",
   "execution_count": 31,
   "metadata": {},
   "outputs": [
    {
     "data": {
      "text/plain": [
       "True"
      ]
     },
     "execution_count": 31,
     "metadata": {},
     "output_type": "execute_result"
    }
   ],
   "source": [
    "from nptyping import NDArray, Float64, Int, Shape\n",
    "\n",
    "# StateSpace is a numpy array of integers with an unknown number of rows and one column\n",
    "StateSpace = NDArray[Shape[\"*\"], Int] \n",
    "# This is how you initialize one object: \n",
    "states = np.array([1, 2, 3])\n",
    "isinstance(states, StateSpace)\n",
    "\n",
    "# TransitionMatrix is a 2 dimensional numpy array of floats with an unknown number of rows and columns. The values are floats between 0 and 1 and the sum of each row is 1.\n",
    "# An array with 2 dimensions of type float\n",
    "TransitionMatrix = NDArray[Shape[\"*, *\"], Float64] \n",
    "# This is how you initialize one object:\n",
    "P = np.array([[0.5, 0.25, 0.25], [0.25, 0.5, 0.25], [0.25, 0.25, 0.5]])\n",
    "isinstance(P, TransitionMatrix)\n"
   ]
  },
  {
   "cell_type": "code",
   "execution_count": 68,
   "metadata": {},
   "outputs": [],
   "source": [
    "# display numbers in non scientific notation showing 4 decimal places\n",
    "np.set_printoptions(suppress=True, precision=4)"
   ]
  },
  {
   "cell_type": "code",
   "execution_count": 69,
   "metadata": {},
   "outputs": [],
   "source": [
    "# StateSpace Type is a numpy array of integers\n",
    "StateSpace = typing.NewType('StateSpace', np.array)\n",
    "# TransitionMatrix Type is a numpy array of floats between 0 and 1\n",
    "TransitionMatrix = typing.NewType('TransitionMatrix', np.array)"
   ]
  },
  {
   "cell_type": "code",
   "execution_count": 73,
   "metadata": {},
   "outputs": [],
   "source": [
    "\n",
    "def get_initial_state(state: int = 1) -> int:\n",
    "    return state\n",
    "\n",
    "# write a function to validate the transition matrix, each row must sum to 1\n",
    "def validate_transition_matrix(P: TransitionMatrix) -> bool:\n",
    "    # assert that the sum of each row is 1\n",
    "    assert np.all(np.sum(P, axis=1) == 1), \"Each row of the transition matrix must sum to 1\"\n",
    "    return True\n",
    "\n",
    "# Write a comment describing what this code does, as well as any other information you think is relevant. Include any function names, variable names, or other identifiers that you think are important. You can also include any other information that you think is relevant, such as the purpose of the code, the context in which it is used, or any other information that you think is relevant.\n",
    "# The code above is a simulation of a Markov chain with 4 states. We start at the state 1 and transition to other states. The function simulate_from_discrete_distribution simulates a transition from a state to another state. The function generate_random_sequence generates a random sequence of states for a given number of transitions. The function compute_time_to_return_to_state computes the time to return to a state. The function expected_revenue calculates the expected revenue for a customer in n_steps.\n",
    "\n",
    "def get_initial_state(state: int = 1) -> int:\n",
    "    return state\n",
    "\n",
    "# write a function to validate the transition matrix, each row must sum to 1\n",
    "def validate_transition_matrix(P: TransitionMatrix) -> bool:\n",
    "    # assert that the sum of each row is 1\n",
    "    assert np.all(np.sum(P, axis=1) == 1), \"Each row of the transition matrix must sum to 1\"\n",
    "    return True\n",
    "\n",
    "def simulate_from_discrete_distribution(states:StateSpace, probability_vector:np.array) -> int:\n",
    "    # assert that dimensions of states and probability_vector are the same and pass the eror message\n",
    "    assert states.shape == probability_vector.shape, \"states and probability_vector must have the same dimensions\"\n",
    "    # assert that the sum of the probability vector is 1\n",
    "    assert np.sum(probability_vector) == 1, \"The sum of the probability vector must be 1\"\n",
    "    return int(np.random.choice(states, size=1, p = np.array(probability_vector)))\n",
    "\n",
    "def generate_random_sequence(states: StateSpace,P: TransitionMatrix, n_transitions:int = 10, start_state:int = 1) -> np.array:\n",
    "    # assert that the type of states is StateSpace\n",
    "    # assert type(states) == StateSpace, \"states must be of type StateSpace (numpy array))\"\n",
    "    # assert that the type of P is TransitionMatrix\n",
    "    # assert type(P) == TransitionMatrix, \"P must be of type TransitionMatrix (numpy array)\"\n",
    "    start_state = get_initial_state(start_state) # get initial state\n",
    "    validate_transition_matrix(P) # validate transition matrix\n",
    "    random_transitions = [start_state] # set start state to 1\n",
    "    while n_transitions >0: # while number of transitions is greater than 0\n",
    "        next_state = simulate_from_discrete_distribution(states, P[start_state-1]) # simulate next state\n",
    "        random_transitions.append(next_state) # append next state to random transitions\n",
    "        start_state = next_state # set start state to next state\n",
    "        n_transitions -= 1 # decrement number of transitions\n",
    "    return np.array(random_transitions)\n",
    "\n",
    "# write a function to compute time to return to a state\n",
    "def compute_time_to_return_to_state(  \n",
    "        states: StateSpace,\n",
    "        P: TransitionMatrix,\n",
    "        state:int,\n",
    "        n_transitions:int = 1000,\n",
    "        ) -> int:\n",
    "    # assert that the type of state is int\n",
    "    assert type(state) == int, \"state must be of type int\"\n",
    "    random_squence = generate_random_sequence(states, P, n_transitions=n_transitions, start_state=state) # generate random sequence\n",
    "    # Find the indices of the elements that are equal to state\n",
    "    indices = np.where(random_squence == state)[0]\n",
    "    # Find the differences between consecutive indices, this gives the length of each run or the number of steps taken to return to the start state\n",
    "    differences = np.diff(indices)\n",
    "    # Find the frequency of each run length\n",
    "    unique, counts = np.unique(differences, return_counts=True)\n",
    "    # Find the expected value of the run length (Expected value is possible values multiplied by their probabilities ( = frequency/total number of runs)))\n",
    "    return np.sum(unique*counts/np.sum(counts)), random_squence\n",
    "\n",
    "# Expected revenue for a customer in n_steps\n",
    "def expected_revenue(\n",
    "        states: StateSpace, \n",
    "        P: TransitionMatrix,  \n",
    "        revenue:np.array, \n",
    "        n_steps:int = 12, \n",
    "    ) -> float:\n",
    "    # assert that the type of revenue is np.array\n",
    "    assert type(revenue) == np.ndarray, \"revenue must be of type np.array\"\n",
    "    # assert that the dimensions of states and revenue are the same\n",
    "    assert states.shape == revenue.shape, \"states and revenue must have the same dimensions\"\n",
    "    # Find P raised to the power of n_steps\n",
    "    P_n_steps = np.linalg.matrix_power(P, n_steps)\n",
    "    # Find the dot product of P_n_steps and revenue\n",
    "    return np.dot(P_n_steps, revenue)\n",
    "\n",
    "def simulate_from_discrete_distribution(states:StateSpace, probability_vector:np.array) -> int:\n",
    "    # assert that dimensions of states and probability_vector are the same and pass the eror message\n",
    "    assert states.shape == probability_vector.shape, \"states and probability_vector must have the same dimensions\"\n",
    "    # assert that the sum of the probability vector is 1\n",
    "    assert np.sum(probability_vector) == 1, \"The sum of the probability vector must be 1\"\n",
    "    return int(np.random.choice(states, size=1, p = np.array(probability_vector)))\n",
    "\n",
    "def generate_random_sequence(states: StateSpace,P: TransitionMatrix, n_transitions:int = 10, start_state:int = 1) -> np.array:\n",
    "    # assert that the type of states is StateSpace\n",
    "    # assert type(states) == StateSpace, \"states must be of type StateSpace (numpy array))\"\n",
    "    # assert that the type of P is TransitionMatrix\n",
    "    # assert type(P) == TransitionMatrix, \"P must be of type TransitionMatrix (numpy array)\"\n",
    "    start_state = get_initial_state(start_state) # get initial state\n",
    "    validate_transition_matrix(P) # validate transition matrix\n",
    "    random_transitions = [start_state] # set start state to 1\n",
    "    while n_transitions >0: # while number of transitions is greater than 0\n",
    "        next_state = simulate_from_discrete_distribution(states, P[start_state-1]) # simulate next state\n",
    "        random_transitions.append(next_state) # append next state to random transitions\n",
    "        start_state = next_state # set start state to next state\n",
    "        n_transitions -= 1 # decrement number of transitions\n",
    "    return np.array(random_transitions)\n",
    "\n",
    "# write a function to compute time to return to a state\n",
    "def compute_time_to_return_to_state(  \n",
    "        states: StateSpace,\n",
    "        P: TransitionMatrix,\n",
    "        state:int,\n",
    "        n_transitions:int = 1000,\n",
    "        ) -> int:\n",
    "    # assert that the type of state is int\n",
    "    assert type(state) == int, \"state must be of type int\"\n",
    "    random_squence = generate_random_sequence(states, P, n_transitions=n_transitions, start_state=state) # generate random sequence\n",
    "    # Find the indices of the elements that are equal to state\n",
    "    indices = np.where(random_squence == state)[0]\n",
    "    # Find the differences between consecutive indices, this gives the length of each run or the number of steps taken to return to the start state\n",
    "    differences = np.diff(indices)\n",
    "    # Find the frequency of each run length\n",
    "    unique, counts = np.unique(differences, return_counts=True)\n",
    "    # Find the expected value of the run length (Expected value is possible values multiplied by their probabilities ( = frequency/total number of runs)))\n",
    "    return np.sum(unique*counts/np.sum(counts)), random_squence\n",
    "\n",
    "# Expected revenue for a customer in n_steps\n",
    "def expected_revenue(\n",
    "        states: StateSpace, \n",
    "        P: TransitionMatrix,  \n",
    "        revenue:np.array, \n",
    "        n_steps:int = 12, \n",
    "    ) -> float:\n",
    "    # assert that the type of revenue is np.array\n",
    "    assert type(revenue) == np.ndarray, \"revenue must be of type np.array\"\n",
    "    # assert that the dimensions of states and revenue are the same\n",
    "    assert states.shape == revenue.shape, \"states and revenue must have the same dimensions\"\n",
    "    # Find P raised to the power of n_steps\n",
    "    P_n_steps = np.linalg.matrix_power(P, n_steps)\n",
    "    # Find the dot product of P_n_steps and revenue\n",
    "    return np.dot(P_n_steps, revenue)\n"
   ]
  },
  {
   "cell_type": "code",
   "execution_count": 88,
   "metadata": {},
   "outputs": [],
   "source": [
    "# How to simulate from discrete distribution\n",
    "# use numpy random choice to generate 1 random number with possible values between 0 and 4 and probabilities given by P[3]\n",
    "P, states = np.array([[0.2, 0.3, 0.4, 0.1],[0.3,0.1,0.3,0.3],[0.0,0.,1,0],[0,0,0,1]]), np.array([1,2,3,4])\n",
    "P, states = np.array([[.5,.5],[1,0]]), np.array([1,2])\n",
    "P, states = np.array([[.3,.7,0,0],[.7,.3,0,0],[0,0,0,1],[0,0,1,0]]), np.array([1,2,3,4])"
   ]
  },
  {
   "cell_type": "code",
   "execution_count": 92,
   "metadata": {},
   "outputs": [
    {
     "data": {
      "text/plain": [
       "2.0"
      ]
     },
     "execution_count": 92,
     "metadata": {},
     "output_type": "execute_result"
    }
   ],
   "source": [
    "# Generate a random sequence of length 1000 starting from state 1\n",
    "expectedValue, seq = compute_time_to_return_to_state(states, P, state=4, n_transitions=1000)\n",
    "expectedValue"
   ]
  },
  {
   "cell_type": "code",
   "execution_count": 103,
   "metadata": {},
   "outputs": [
    {
     "data": {
      "text/plain": [
       "array([0.        , 4.38094013, 6.21864939, 5.87772386])"
      ]
     },
     "execution_count": 103,
     "metadata": {},
     "output_type": "execute_result"
    }
   ],
   "source": [
    "P, states = np.array([[1,0,0,0],[0.3,0,.5,0.2],[0,0,0.6,0.4],[0,.2,.5,.3]]), np.array([1,2,3,4])\n",
    "revenue = np.array([0,3,7,10])\n",
    "expected_revenue(states, P, revenue=revenue, n_steps=12)"
   ]
  },
  {
   "cell_type": "code",
   "execution_count": null,
   "metadata": {},
   "outputs": [],
   "source": []
  }
 ],
 "metadata": {
  "kernelspec": {
   "display_name": "markov_chains",
   "language": "python",
   "name": "python3"
  },
  "language_info": {
   "codemirror_mode": {
    "name": "ipython",
    "version": 3
   },
   "file_extension": ".py",
   "mimetype": "text/x-python",
   "name": "python",
   "nbconvert_exporter": "python",
   "pygments_lexer": "ipython3",
   "version": "3.11.0"
  },
  "orig_nbformat": 4,
  "vscode": {
   "interpreter": {
    "hash": "5c654be2a9233551138e437d34e936feffb5883197da740e2302066484af2df4"
   }
  }
 },
 "nbformat": 4,
 "nbformat_minor": 2
}
